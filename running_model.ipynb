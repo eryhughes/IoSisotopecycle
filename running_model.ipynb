{
 "cells": [
  {
   "cell_type": "code",
   "execution_count": null,
   "metadata": {},
   "outputs": [],
   "source": [
    "# atmosphere and frost one reservoir"
   ]
  },
  {
   "cell_type": "code",
   "execution_count": null,
   "metadata": {},
   "outputs": [],
   "source": [
    "import pandas as pd\n",
    "import numpy as np\n",
    "import math\n",
    "import datetime\n",
    "import isotope_evolution as ie"
   ]
  },
  {
   "cell_type": "code",
   "execution_count": null,
   "metadata": {},
   "outputs": [],
   "source": []
  },
  {
   "cell_type": "code",
   "execution_count": null,
   "metadata": {},
   "outputs": [],
   "source": [
    "### INPUTS ###\n",
    "\n",
    "t_step_Myr = 1.e-1 # time step in Myr\n",
    "end_time_Myr = 4570 # end time in Myr\n",
    "nr_step = 1.\n",
    "nr_tol = 1.e5\n",
    "\n",
    "### RESERVOIRS ###\n",
    "# deep mantle\n",
    "DM_mass_f = \"N\" # \"N\" if 0 mass. mantle mass S fraction of min and max of total mantle\n",
    "DM_mass_f_sil = \"N\" # \"N\" if 0 mass. mantle mass silicate fraction of min and max of total mantle\n",
    "DM_ST = \"N\"\n",
    "DM_33d = \"\"\n",
    "DM_34d = \"\"\n",
    "DM_36d = \"\"\n",
    "# mantle\n",
    "M_mass_f = 0.1257 # mantle mass S fraction of min and max [0.1257]\n",
    "M_mass_f_sil = M_mass_f # mantle mass silicate fraction of min and max of total mantle\n",
    "M_ST = \"N\"\n",
    "M_33d = 0.\n",
    "M_34d = 0.\n",
    "M_36d = 0.\n",
    "# frost (crust)\n",
    "F_mass_f = 0.\n",
    "F_ST = \"N\"\n",
    "F_33d = \"\"\n",
    "F_34d = \"\"\n",
    "F_36d = \"\" \n",
    "# silicate-sulfate (crust)\n",
    "SS_mass_f = 0.\n",
    "SS_ST = \"N\"\n",
    "SS_33d = \"\"\n",
    "SS_34d = \"\"\n",
    "SS_36d = \"\" \n",
    "# space\n",
    "S_ST = \"N\"\n",
    "S_33d = \"\"\n",
    "S_34d = \"\"\n",
    "S_36d = \"\"\n",
    "\n",
    "rate_f = {\"pd\":1., # [1. all] \"N\" = 0.\n",
    "         \"pi\":1.,\n",
    "         \"ei\":1.,\n",
    "         \"ed\":1.,\n",
    "         \"ac\":1.,\n",
    "         \"rc\":1.,\n",
    "         \"ec\":1.}\n",
    "\n",
    "# options\n",
    "oscillate = \"N\" # does the system oscillate or not?\n",
    "resurf_cm_yr = 1. # resrufacing rate in cm/yr (today rate = 1.0)\n",
    "sil_mag_S = 0.001 # mass fraction S in mantle melt\n",
    "thick_C = 40000. # crustal thickness m - min = 30000, max = 50000\n",
    "f_S2 = 0.2 # fraction of S2 for SO2 due to homogenous gas equilibria [0.2]\n",
    "f_pl2mo = 0.8 # fraction of mantle melting that goes to plutons [0.8]\n",
    "f_sq = 0.25 # fraction of sulfate sequestration from gas [0.25]\n",
    "f_deep = 0. # fraction of mantle melting rate that is added from the deep mantle if present [0.]\n",
    "f_remobilised = 1. # fraction of f_crust_returned that is remobilised [1.]\n",
    "f_pu = 0.5 # fraction of material that could be lost to space that is [0.5]"
   ]
  },
  {
   "cell_type": "code",
   "execution_count": null,
   "metadata": {},
   "outputs": [],
   "source": [
    "ie.iso_evo(t_step_Myr,end_time_Myr,nr_step,nr_tol,DM_mass_f,DM_mass_f_sil,DM_ST,DM_33d,DM_34d,DM_36d,M_mass_f,M_mass_f_sil,M_ST,M_33d,M_34d,M_36d,F_mass_f,F_ST,F_33d,F_34d,F_36d,SS_mass_f,SS_ST,SS_33d,SS_34d,SS_36d,S_ST,S_33d,S_34d,S_36d,rate_f,oscillate,resurf_cm_yr,sil_mag_S,thick_C,f_S2,f_pl2mo,f_sq,f_deep,f_remobilised,f_pu)\n",
    "#ie.iso_evo_simple(t_step_Myr,end_time_Myr,nr_step,nr_tol,DM_mass_f,DM_mass_f_sil,DM_ST,DM_33d,DM_34d,DM_36d,M_mass_f,M_mass_f_sil,M_ST,M_33d,M_34d,M_36d,F_mass_f,F_ST,F_33d,F_34d,F_36d,SS_mass_f,SS_ST,SS_33d,SS_34d,SS_36d,S_ST,S_33d,S_34d,S_36d,rate_f,oscillate,resurf_cm_yr,sil_mag_S,thick_C,f_S2,f_pl2mo,f_sq,f_deep,f_remobilised,f_pu)\n"
   ]
  },
  {
   "cell_type": "markdown",
   "metadata": {},
   "source": []
  },
  {
   "cell_type": "code",
   "execution_count": null,
   "metadata": {},
   "outputs": [],
   "source": [
    "# atmosphere\n",
    "profile = pd.read_csv(\"A_alt_T.csv\")\n",
    "F_33R = 0.00912537740657392\n",
    "F_34R = 0.0584588083452021\n",
    "F_36R = 0.000239082372396731\n",
    "\n",
    "ie.calc_atm(profile,F_33R,F_34R,F_36R)"
   ]
  },
  {
   "cell_type": "code",
   "execution_count": null,
   "metadata": {},
   "outputs": [],
   "source": []
  },
  {
   "cell_type": "code",
   "execution_count": null,
   "metadata": {},
   "outputs": [],
   "source": [
    "### range of fractionation factors at a single step ###\n",
    "ie.range_frac_fac_ss()\n",
    "\n",
    "### range of fractionation factors for various proportions of space to burial ###\n",
    "x_hg = 0.2\n",
    "ie.range_frac_fac_s2b(x_hg)"
   ]
  },
  {
   "cell_type": "code",
   "execution_count": null,
   "metadata": {},
   "outputs": [],
   "source": []
  },
  {
   "cell_type": "code",
   "execution_count": null,
   "metadata": {},
   "outputs": [],
   "source": [
    "# S isotope partitioning between core-mantle for various fractions in each #\n",
    "\n",
    "# inputs\n",
    "d_i = -0.02 # bulk d34S of Io\n",
    "step_size = 0.01 # step size for fraction of material in core/mantle\n",
    "\n",
    "# run model\n",
    "ie.calc_iso_variable(d_i,step_size)"
   ]
  },
  {
   "cell_type": "code",
   "execution_count": null,
   "metadata": {},
   "outputs": [],
   "source": []
  }
 ],
 "metadata": {
  "kernelspec": {
   "display_name": "Python 3",
   "language": "python",
   "name": "python3"
  }
 },
 "nbformat": 4,
 "nbformat_minor": 4
}
